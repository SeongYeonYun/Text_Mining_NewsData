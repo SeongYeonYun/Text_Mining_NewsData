{
 "cells": [
  {
   "cell_type": "code",
   "execution_count": 1,
   "metadata": {},
   "outputs": [],
   "source": [
    "import pandas as pd\n",
    "\n",
    "korean_air_data = pd.read_csv(\"korean_air_data/korean_air_2020_01.csv\")\n",
    "\n",
    "korean_air_data.columns = [\"a\",\"title\",\"text\",\"editor\",\"times\",\"date\"]\n",
    "\n",
    "del korean_air_data[\"a\"]\n",
    "\n",
    "# na값 제거\n",
    "data = korean_air_data.dropna()\n",
    "\n",
    "# 불용어 지정\n",
    "stopwords = ['의','가','이','은','들','는','좀','잘','걍','과','박정환','도','을','것','를','등','으로','자','에','등','와','한','하다''것','\\n','로']\n",
    "\n",
    "# 한글 외의 모든 데이터 제거 : 기업명이 영어로 되어있는 경우를 어떻게 처리 해야할까?\n",
    "data = data.text.str.replace(\"[^ㄱ-ㅎㅏ-ㅣ가-힣 ]\",\"\")"
   ]
  },
  {
   "cell_type": "code",
   "execution_count": 2,
   "metadata": {},
   "outputs": [],
   "source": [
    "from konlpy.corpus import kolaw\n",
    "from konlpy.tag import Okt\n",
    "from nltk.collocations import BigramAssocMeasures\n",
    "from nltk.collocations import TrigramAssocMeasures\n",
    "from nltk.collocations import BigramCollocationFinder\n",
    "from nltk.collocations import TrigramCollocationFinder\n",
    "from collections import Counter\n",
    "\n",
    "ngram = [(BigramAssocMeasures(),BigramCollocationFinder),\n",
    "         (TrigramAssocMeasures(),TrigramCollocationFinder)]\n",
    "\n",
    "okt= Okt()# loading tagger\n",
    "nouns = []\n",
    "for sen in data:\n",
    "    token = okt.morphs(sen, stem = True) # get nouns\n",
    "    token = [word for word in token if not word in stopwords] \n",
    "    nouns.append(token)\n",
    "    \n"
   ]
  },
  {
   "cell_type": "code",
   "execution_count": 20,
   "metadata": {},
   "outputs": [
    {
     "ename": "AttributeError",
     "evalue": "'list' object has no attribute 'tolist'",
     "output_type": "error",
     "traceback": [
      "\u001b[0;31m---------------------------------------------------------------------------\u001b[0m",
      "\u001b[0;31mAttributeError\u001b[0m                            Traceback (most recent call last)",
      "\u001b[0;32m<ipython-input-20-197e120d8300>\u001b[0m in \u001b[0;36m<module>\u001b[0;34m\u001b[0m\n\u001b[1;32m     11\u001b[0m \u001b[0;34m\u001b[0m\u001b[0m\n\u001b[1;32m     12\u001b[0m         \u001b[0mfounds_from_4measure\u001b[0m \u001b[0;34m+=\u001b[0m \u001b[0mfounds\u001b[0m\u001b[0;34m\u001b[0m\u001b[0;34m\u001b[0m\u001b[0m\n\u001b[0;32m---> 13\u001b[0;31m         \u001b[0mX_train_ngram\u001b[0m\u001b[0;34m.\u001b[0m\u001b[0mappend\u001b[0m\u001b[0;34m(\u001b[0m\u001b[0mfounds\u001b[0m\u001b[0;34m.\u001b[0m\u001b[0mtolist\u001b[0m\u001b[0;34m(\u001b[0m\u001b[0;34m)\u001b[0m\u001b[0;34m)\u001b[0m\u001b[0;34m\u001b[0m\u001b[0;34m\u001b[0m\u001b[0m\n\u001b[0m\u001b[1;32m     14\u001b[0m \u001b[0;34m\u001b[0m\u001b[0m\n\u001b[1;32m     15\u001b[0m         \u001b[0mcollocations\u001b[0m \u001b[0;34m=\u001b[0m \u001b[0;34m[\u001b[0m\u001b[0;34m' '\u001b[0m\u001b[0;34m.\u001b[0m\u001b[0mjoin\u001b[0m\u001b[0;34m(\u001b[0m\u001b[0mcollocation\u001b[0m\u001b[0;34m)\u001b[0m \u001b[0;32mfor\u001b[0m \u001b[0mcollocation\u001b[0m \u001b[0;32min\u001b[0m \u001b[0mfounds_from_4measure\u001b[0m\u001b[0;34m]\u001b[0m\u001b[0;34m\u001b[0m\u001b[0;34m\u001b[0m\u001b[0m\n",
      "\u001b[0;31mAttributeError\u001b[0m: 'list' object has no attribute 'tolist'"
     ]
    }
   ],
   "source": [
    "founds_from_4measure = []\n",
    "X_train_ngram = []\n",
    "\n",
    "for i in range(0,len(nouns)):\n",
    "    for measure, finder in ngram:\n",
    "        finder = finder.from_words(nouns[i])\n",
    "        founds = finder.nbest(measure.pmi, 10)       # pmi - 상위 30개 추출\n",
    "        founds += finder.nbest(measure.chi_sq, 10)   # chi_sq - 상위 30개 추출\n",
    "        founds += finder.nbest(measure.mi_like, 10)  # mi_like - 상위 30개 추출\n",
    "        founds += finder.nbest(measure.jaccard, 10)  # jaccard - 상위 30개 추출\n",
    "\n",
    "        founds_from_4measure += founds\n",
    "\n",
    "        collocations = [' '.join(collocation) for collocation in founds_from_4measure]\n",
    "        collocations = [(w) for w,f in Counter(collocations).most_common() if f > 2]\n",
    "        \n",
    "    X_train_ngram.append(collocations)\n"
   ]
  }
 ],
 "metadata": {
  "kernelspec": {
   "display_name": "Python 3",
   "language": "python",
   "name": "python3"
  },
  "language_info": {
   "codemirror_mode": {
    "name": "ipython",
    "version": 3
   },
   "file_extension": ".py",
   "mimetype": "text/x-python",
   "name": "python",
   "nbconvert_exporter": "python",
   "pygments_lexer": "ipython3",
   "version": "3.7.2"
  }
 },
 "nbformat": 4,
 "nbformat_minor": 4
}
