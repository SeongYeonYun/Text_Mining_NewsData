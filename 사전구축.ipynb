{
 "cells": [
  {
   "cell_type": "code",
   "execution_count": 41,
   "metadata": {},
   "outputs": [],
   "source": [
    "import pandas as pd\n",
    "import numpy as np"
   ]
  },
  {
   "cell_type": "code",
   "execution_count": 42,
   "metadata": {},
   "outputs": [],
   "source": [
    "data = pd.read_csv(\"korean_air_2020_01.csv\")\n",
    "#second = pd.read_csv(\"korean_air_data_korean_air_2020_02.csv\")\n",
    "#third = pd.read_csv(\"korean_air_data_korean_air_2020_07.csv\")\n",
    "#fourth = pd.read_csv(\"korean_air_data_korean_air_2020_08.csv\")\n",
    "#fifth = pd.read_csv(\"korean_air_data_korean_air_2020_09.csv\")\n",
    "#sixth = pd.read_csv(\"korean_air_data_korean_air_2020_10.csv\")\n",
    "\n",
    "#data = pd.concat([first, second, third, fourth, fifth, sixth])"
   ]
  },
  {
   "cell_type": "code",
   "execution_count": 43,
   "metadata": {},
   "outputs": [],
   "source": [
    "data = data.dropna()\n",
    "data.columns = [\"a\",\"title\",\"text\",\"repoter\",\"spon\", \"date\"]\n",
    "date = data.date"
   ]
  },
  {
   "cell_type": "code",
   "execution_count": 44,
   "metadata": {},
   "outputs": [],
   "source": [
    "#q불용어 지정\n",
    "#기자이름\n",
    "repoter = data[\"repoter\"].unique"
   ]
  },
  {
   "cell_type": "code",
   "execution_count": 45,
   "metadata": {},
   "outputs": [],
   "source": [
    "#신문사 이름\n",
    "spon = data[\"spon\"].unique"
   ]
  },
  {
   "cell_type": "code",
   "execution_count": 46,
   "metadata": {},
   "outputs": [],
   "source": [
    "#대표적인 조사\n",
    "stopwords = ['의','가','이','권','은','들','는','좀','잘','걍','과','도','을','것','를','등','으로','자','에','등','와','한','하다''것','로']"
   ]
  },
  {
   "cell_type": "code",
   "execution_count": 47,
   "metadata": {},
   "outputs": [],
   "source": [
    "#불용어 병합\n",
    "stopwords.extend(data.repoter.values)\n",
    "stopwords.extend(data.spon.values)"
   ]
  },
  {
   "cell_type": "code",
   "execution_count": 48,
   "metadata": {},
   "outputs": [
    {
     "data": {
      "text/plain": [
       "432"
      ]
     },
     "execution_count": 48,
     "metadata": {},
     "output_type": "execute_result"
    }
   ],
   "source": [
    "len(data)"
   ]
  },
  {
   "cell_type": "code",
   "execution_count": 49,
   "metadata": {},
   "outputs": [
    {
     "name": "stdout",
     "output_type": "stream",
     "text": [
      "단어 집합(vocabulary)의 크기 : 8592\n",
      "등장 빈도가 2번 이하인 희귀 단어의 수: 4133\n",
      "단어 집합에서 희귀 단어의 비율: 48.10288640595903\n",
      "전체 등장 빈도에서 희귀 단어 등장 빈도 비율: 3.481598379020788\n",
      "단어 집합의 크기 : 4459\n"
     ]
    }
   ],
   "source": [
    "# 한글 외의 모든 데이터 제거 : 기업명이 영어로 되어있는 경우를 어떻게 처리 해야할까?\n",
    "data = data.text.str.replace(\"[^ㄱ-ㅎㅏ-ㅣ가-힣 ]\",\"\")\n",
    "\n",
    "from konlpy.tag import Okt\n",
    "from tensorflow.keras.preprocessing.text import Tokenizer\n",
    "\n",
    "okt = Okt()\n",
    "X_train = []\n",
    "X_train2 =[]\n",
    "\n",
    "for sen in data :\n",
    "    temp_X = []\n",
    "    \n",
    "    # 토큰화\n",
    "    temp_X = okt.morphs(sen, stem = True) \n",
    "    \n",
    "    # 불용어 제거\n",
    "    temp_X = [word for word in temp_X if not word in stopwords] \n",
    "    \n",
    "    #모든 토큰들을 리스트에 기사별로 저장\n",
    "    X_train.append(temp_X)\n",
    "    \n",
    "    #모든 토큰들을  하나의 리스트에 저장\n",
    "    X_train2.extend(temp_X)\n",
    "\n",
    "tokenizer = Tokenizer()\n",
    "tokenizer.fit_on_texts(X_train)\n",
    "\n",
    "threshold = 3\n",
    "total_cnt = len(tokenizer.word_index) # 단어의 수\n",
    "rare_cnt = 0 # 등장 빈도수가 threshold보다 작은 단어의 개수를 카운트\n",
    "total_freq = 0 # 훈련 데이터의 전체 단어 빈도수 총 합\n",
    "rare_freq = 0 # 등장 빈도수가 threshold보다 작은 단어의 등장 빈도수의 총 합\n",
    "\n",
    "# 단어와 빈도수의 쌍(pair)을 key와 value로 받는다.\n",
    "for key, value in tokenizer.word_counts.items():\n",
    "    total_freq = total_freq + value\n",
    "\n",
    "    # 단어의 등장 빈도수가 threshold보다 작으면\n",
    "    if(value < threshold):\n",
    "        rare_cnt = rare_cnt + 1\n",
    "        rare_freq = rare_freq + value\n",
    "\n",
    "print('단어 집합(vocabulary)의 크기 :',total_cnt)\n",
    "print('등장 빈도가 %s번 이하인 희귀 단어의 수: %s'%(threshold - 1, rare_cnt))\n",
    "print(\"단어 집합에서 희귀 단어의 비율:\", (rare_cnt / total_cnt)*100)\n",
    "print(\"전체 등장 빈도에서 희귀 단어 등장 빈도 비율:\", (rare_freq / total_freq)*100)\n",
    "\n",
    "# 전체 단어 개수 중 빈도수 2이하인 단어 개수는 제거.\n",
    "vocab_size = total_cnt - rare_cnt\n",
    "print('단어 집합의 크기 :',vocab_size)"
   ]
  },
  {
   "cell_type": "code",
   "execution_count": 50,
   "metadata": {
    "scrolled": true
   },
   "outputs": [],
   "source": [
    "import datetime\n",
    "def getDayName(a):\n",
    "    D = a.split(\"/\")\n",
    "    y = int(D[0])\n",
    "    m = int(D[1])\n",
    "    d = int(D[2])\n",
    "    return ['MON','TUE','WED','THU','FRI','SAT','SUN'][datetime.date(y,m,d).weekday()]"
   ]
  },
  {
   "cell_type": "code",
   "execution_count": 51,
   "metadata": {},
   "outputs": [],
   "source": [
    "weekday =[]\n",
    "for x in date:\n",
    "    weekday.append(getDayName(x))\n",
    "    "
   ]
  },
  {
   "cell_type": "code",
   "execution_count": 52,
   "metadata": {},
   "outputs": [],
   "source": [
    "date = date.tolist()"
   ]
  },
  {
   "cell_type": "code",
   "execution_count": 53,
   "metadata": {},
   "outputs": [
    {
     "name": "stdout",
     "output_type": "stream",
     "text": [
      "['2020/01/31', '2020/01/30', '2020/01/29', '2020/01/28', '2020/01/27', '2020/01/26', '2020/01/25', '2020/01/24', '2020/01/23', '2020/01/22', '2020/01/21', '2020/01/20', '2020/01/19', '2020/01/18', '2020/01/17', '2020/01/16', '2020/01/15', '2020/01/14', '2020/01/13', '2020/01/12', '2020/01/11', '2020/01/10', '2020/01/09', '2020/01/08', '2020/01/07', '2020/01/06', '2020/01/05', '2020/01/01']\n"
     ]
    }
   ],
   "source": [
    "DATE = []\n",
    "for x in date:\n",
    "    if x not in DATE:\n",
    "        DATE.append(x)\n",
    "print(DATE)"
   ]
  },
  {
   "cell_type": "code",
   "execution_count": 161,
   "metadata": {},
   "outputs": [],
   "source": [
    "#증감 데이터 불러오기\n",
    "increase_r = pd.read_csv(\"대비처리.csv\")"
   ]
  },
  {
   "cell_type": "code",
   "execution_count": 162,
   "metadata": {},
   "outputs": [],
   "source": [
    "increase = increase_r[[\"년/월/일\",\"증감\"]]"
   ]
  },
  {
   "cell_type": "code",
   "execution_count": 57,
   "metadata": {},
   "outputs": [],
   "source": [
    "weekday_frame = pd.DataFrame( {\"date\" : date,\"weekday\" : weekday})"
   ]
  },
  {
   "cell_type": "code",
   "execution_count": 58,
   "metadata": {},
   "outputs": [],
   "source": [
    " for x in range(0,len(weekday_frame)-1):\n",
    "    if weekday_frame.weekday[x] == \"SAT\":\n",
    "        monday = DATE.index(weekday_frame.date[x])- 2\n",
    "        weekday_frame.date[x] = DATE[monday]\n",
    "        weekday_frame.weekday[x] == \"MON\"\n",
    "            \n",
    "    else :\n",
    "        if weekday_frame.weekday[x] == \"SUN\":\n",
    "            monday = DATE.index(weekday_frame.date[x]) - 1\n",
    "            weekday_frame.date[x] = DATE[monday]\n",
    "            weekday_frame.weekday[x] == \"MON\"\n",
    "                \n",
    "        else : pass\n",
    "                "
   ]
  },
  {
   "cell_type": "code",
   "execution_count": 59,
   "metadata": {},
   "outputs": [
    {
     "data": {
      "text/plain": [
       "array(['2020/01/31', '2020/01/30', '2020/01/29', '2020/01/28',\n",
       "       '2020/01/27', '2020/01/24', '2020/01/23', '2020/01/22',\n",
       "       '2020/01/21', '2020/01/20', '2020/01/17', '2020/01/16',\n",
       "       '2020/01/15', '2020/01/14', '2020/01/13', '2020/01/10',\n",
       "       '2020/01/09', '2020/01/08', '2020/01/07', '2020/01/06',\n",
       "       '2020/01/01'], dtype=object)"
      ]
     },
     "execution_count": 59,
     "metadata": {},
     "output_type": "execute_result"
    }
   ],
   "source": [
    "weekday_frame.date.unique()"
   ]
  },
  {
   "cell_type": "code",
   "execution_count": 60,
   "metadata": {},
   "outputs": [],
   "source": [
    "weekday_frame = weekday_frame.drop_duplicates()"
   ]
  },
  {
   "cell_type": "code",
   "execution_count": 61,
   "metadata": {},
   "outputs": [],
   "source": [
    "weekday_frame.to_csv(\"weekday.csv\")"
   ]
  },
  {
   "cell_type": "code",
   "execution_count": 62,
   "metadata": {},
   "outputs": [],
   "source": [
    "#날자를 중심으로 데이터 병합\n",
    "increase = increase.rename(columns ={ \"년/월/일\" : \"date\"})"
   ]
  },
  {
   "cell_type": "code",
   "execution_count": 63,
   "metadata": {},
   "outputs": [],
   "source": [
    "dic_frame = pd.DataFrame({\"data\" : X_train, \"date\" : date})"
   ]
  },
  {
   "cell_type": "code",
   "execution_count": 64,
   "metadata": {},
   "outputs": [],
   "source": [
    "increase2 = pd.merge(weekday_frame, increase , on = \"date\")"
   ]
  },
  {
   "cell_type": "code",
   "execution_count": 65,
   "metadata": {
    "scrolled": true
   },
   "outputs": [],
   "source": [
    "del increase2[\"weekday\"]"
   ]
  },
  {
   "cell_type": "code",
   "execution_count": 67,
   "metadata": {},
   "outputs": [],
   "source": [
    "increase2 = increase2.drop_duplicates()"
   ]
  },
  {
   "cell_type": "code",
   "execution_count": 68,
   "metadata": {},
   "outputs": [],
   "source": [
    "dic_frame2 = pd.merge( dic_frame, increase2, on = \"date\", how = \"left\")"
   ]
  },
  {
   "cell_type": "code",
   "execution_count": 140,
   "metadata": {},
   "outputs": [],
   "source": [
    "dic = dic_frame2.fillna(0)"
   ]
  },
  {
   "cell_type": "code",
   "execution_count": 141,
   "metadata": {},
   "outputs": [],
   "source": [
    "#딕셔너리 key 생성\n",
    "key_list = []\n",
    "for v in X_train2:\n",
    "    if v not in key_list:\n",
    "        key_list.append(v)"
   ]
  },
  {
   "cell_type": "code",
   "execution_count": 142,
   "metadata": {},
   "outputs": [
    {
     "data": {
      "text/html": [
       "<div>\n",
       "<style scoped>\n",
       "    .dataframe tbody tr th:only-of-type {\n",
       "        vertical-align: middle;\n",
       "    }\n",
       "\n",
       "    .dataframe tbody tr th {\n",
       "        vertical-align: top;\n",
       "    }\n",
       "\n",
       "    .dataframe thead th {\n",
       "        text-align: right;\n",
       "    }\n",
       "</style>\n",
       "<table border=\"1\" class=\"dataframe\">\n",
       "  <thead>\n",
       "    <tr style=\"text-align: right;\">\n",
       "      <th></th>\n",
       "      <th>data</th>\n",
       "      <th>date</th>\n",
       "      <th>증감</th>\n",
       "    </tr>\n",
       "  </thead>\n",
       "  <tbody>\n",
       "    <tr>\n",
       "      <th>0</th>\n",
       "      <td>[남매, 난, 촉발, 되다, 한진, 그룹, 경영, 분쟁, 정점, 치닫다, 있다, 그...</td>\n",
       "      <td>2020/01/31</td>\n",
       "      <td>0.0</td>\n",
       "    </tr>\n",
       "    <tr>\n",
       "      <th>1</th>\n",
       "      <td>[한진, 그룹, 경영, 향배, 가르다, 월, 한진, 칼, 주주총회, 앞두다, 조현아...</td>\n",
       "      <td>2020/01/31</td>\n",
       "      <td>0.0</td>\n",
       "    </tr>\n",
       "    <tr>\n",
       "      <th>2</th>\n",
       "      <td>[줄어들다, 비행, 수당, 처우, 대한, 정보, 아직, 없다, 신종, 코로나바이러스...</td>\n",
       "      <td>2020/01/31</td>\n",
       "      <td>0.0</td>\n",
       "    </tr>\n",
       "    <tr>\n",
       "      <th>3</th>\n",
       "      <td>[한진, 남매, 경영, 분쟁, 본격, 화, 입장, 문, 경영, 일선, 안, 나서다,...</td>\n",
       "      <td>2020/01/31</td>\n",
       "      <td>0.0</td>\n",
       "    </tr>\n",
       "    <tr>\n",
       "      <th>4</th>\n",
       "      <td>[앵커, 오늘, 우한, 교민, 이송, 전세기, 에는, 조원태, 한진, 그룹, 회장,...</td>\n",
       "      <td>2020/01/31</td>\n",
       "      <td>0.0</td>\n",
       "    </tr>\n",
       "    <tr>\n",
       "      <th>...</th>\n",
       "      <td>...</td>\n",
       "      <td>...</td>\n",
       "      <td>...</td>\n",
       "    </tr>\n",
       "    <tr>\n",
       "      <th>427</th>\n",
       "      <td>[성윤, 모, 오른쪽, 세번, 째, 산업, 통상, 자원부, 장관, 일, 인천공항, ...</td>\n",
       "      <td>2020/01/01</td>\n",
       "      <td>0.0</td>\n",
       "    </tr>\n",
       "    <tr>\n",
       "      <th>428</th>\n",
       "      <td>[세종, 권혜민, 기자, 일본, 정부, 수출, 규제, 강화, 조치, 미국, 중국, ...</td>\n",
       "      <td>2020/01/01</td>\n",
       "      <td>0.0</td>\n",
       "    </tr>\n",
       "    <tr>\n",
       "      <th>429</th>\n",
       "      <td>[경제, 기상도, 업종, 별, 전망, 항공, 국내, 항공, 업다, 올해, 침체, 기...</td>\n",
       "      <td>2020/01/01</td>\n",
       "      <td>0.0</td>\n",
       "    </tr>\n",
       "    <tr>\n",
       "      <th>430</th>\n",
       "      <td>[삼, 성, 현, 기차, 국내, 주요, 대기업, 년, 내, 클라우드, 도입, 마무리...</td>\n",
       "      <td>2020/01/01</td>\n",
       "      <td>0.0</td>\n",
       "    </tr>\n",
       "    <tr>\n",
       "      <th>431</th>\n",
       "      <td>[국내, 항공사, 항공, 마일리지, 좌석, 운용, 정보, 보다, 투명하다, 공개, ...</td>\n",
       "      <td>2020/01/01</td>\n",
       "      <td>0.0</td>\n",
       "    </tr>\n",
       "  </tbody>\n",
       "</table>\n",
       "<p>432 rows × 3 columns</p>\n",
       "</div>"
      ],
      "text/plain": [
       "                                                  data        date   증감\n",
       "0    [남매, 난, 촉발, 되다, 한진, 그룹, 경영, 분쟁, 정점, 치닫다, 있다, 그...  2020/01/31  0.0\n",
       "1    [한진, 그룹, 경영, 향배, 가르다, 월, 한진, 칼, 주주총회, 앞두다, 조현아...  2020/01/31  0.0\n",
       "2    [줄어들다, 비행, 수당, 처우, 대한, 정보, 아직, 없다, 신종, 코로나바이러스...  2020/01/31  0.0\n",
       "3    [한진, 남매, 경영, 분쟁, 본격, 화, 입장, 문, 경영, 일선, 안, 나서다,...  2020/01/31  0.0\n",
       "4    [앵커, 오늘, 우한, 교민, 이송, 전세기, 에는, 조원태, 한진, 그룹, 회장,...  2020/01/31  0.0\n",
       "..                                                 ...         ...  ...\n",
       "427  [성윤, 모, 오른쪽, 세번, 째, 산업, 통상, 자원부, 장관, 일, 인천공항, ...  2020/01/01  0.0\n",
       "428  [세종, 권혜민, 기자, 일본, 정부, 수출, 규제, 강화, 조치, 미국, 중국, ...  2020/01/01  0.0\n",
       "429  [경제, 기상도, 업종, 별, 전망, 항공, 국내, 항공, 업다, 올해, 침체, 기...  2020/01/01  0.0\n",
       "430  [삼, 성, 현, 기차, 국내, 주요, 대기업, 년, 내, 클라우드, 도입, 마무리...  2020/01/01  0.0\n",
       "431  [국내, 항공사, 항공, 마일리지, 좌석, 운용, 정보, 보다, 투명하다, 공개, ...  2020/01/01  0.0\n",
       "\n",
       "[432 rows x 3 columns]"
      ]
     },
     "execution_count": 142,
     "metadata": {},
     "output_type": "execute_result"
    }
   ],
   "source": [
    "dic"
   ]
  },
  {
   "cell_type": "code",
   "execution_count": 75,
   "metadata": {},
   "outputs": [],
   "source": [
    "#예상 소요 시간 300분\n",
    "#사전 만들기\n",
    "dictionary = {\"<UNK>\" : { \"횟수\" : 0, \"점수\" : 0, \"극성정도\" : 0}}\n",
    "\n",
    "for k in key_list:  #키 리스트안에 있는 단어가 언급이 되는 경우\n",
    "    count = 0\n",
    "    score = 0\n",
    "    for x in range(0,len(dic)):  #한 기사씩 검사한다.\n",
    "        d = dic.loc[x,:].data\n",
    "        \n",
    "        \n",
    "        #count 는 전체 언급된 횟수, score는 증감의 총합, pority는 총합의 평균\n",
    "        if k in d:            \n",
    "            count = count + d.count(k)\n",
    "            score = score + (dic.loc[x,:][\"증감\"] * d.count(k))\n",
    "        \n",
    "       \n",
    "        #elif k not in word_list:\n",
    "        else:\n",
    "            pass\n",
    "\n",
    "    polarity  = score/count\n",
    "    dictionary[k] = { \"횟수\" : count, \"점수\" : score, \"극성정도\" : polarity}  "
   ]
  },
  {
   "cell_type": "code",
   "execution_count": 121,
   "metadata": {},
   "outputs": [
    {
     "name": "stdout",
     "output_type": "stream",
     "text": [
      "227 미온\n"
     ]
    }
   ],
   "source": [
    "from collections import Counter\n",
    "scores = []\n",
    "for x in range (0, len(dic)):\n",
    "    key = set(dic.data[x])\n",
    "    score = 0\n",
    "    count = 0\n",
    "    for i in key:\n",
    "        score += (dictionary[i][\"극성정도\"] * Counter(dic.data[x])[i])\n",
    "        count += Counter(dic.data[x])[i]\n",
    "    try :\n",
    "        score = score/count\n",
    "        scores.append(score)\n",
    "        \n",
    "    except ZeroDivisionError as e:\n",
    "        print(x,k)\n",
    "        mis = x"
   ]
  },
  {
   "cell_type": "code",
   "execution_count": 122,
   "metadata": {},
   "outputs": [
    {
     "data": {
      "text/plain": [
       "227"
      ]
     },
     "execution_count": 122,
     "metadata": {},
     "output_type": "execute_result"
    }
   ],
   "source": [
    "mis"
   ]
  },
  {
   "cell_type": "code",
   "execution_count": 116,
   "metadata": {},
   "outputs": [],
   "source": [
    "import matplotlib.pyplot as plt"
   ]
  },
  {
   "cell_type": "code",
   "execution_count": 117,
   "metadata": {
    "scrolled": true
   },
   "outputs": [
    {
     "data": {
      "text/plain": [
       "[<matplotlib.lines.Line2D at 0x2987e1c84f0>]"
      ]
     },
     "execution_count": 117,
     "metadata": {},
     "output_type": "execute_result"
    },
    {
     "data": {
      "image/png": "[encoded data removed]",
      "text/plain": [
       "<Figure size 432x288 with 1 Axes>"
      ]
     },
     "metadata": {
      "needs_background": "light"
     },
     "output_type": "display_data"
    }
   ],
   "source": [
    "#기사별 점수 비교\n",
    "plt.plot(scores)"
   ]
  },
  {
   "cell_type": "code",
   "execution_count": 143,
   "metadata": {},
   "outputs": [],
   "source": [
    "#이상치 제거\n",
    "dic.drop([mis], inplace=True)"
   ]
  },
  {
   "cell_type": "code",
   "execution_count": 144,
   "metadata": {},
   "outputs": [],
   "source": [
    "dic[\"score\"] = scores"
   ]
  },
  {
   "cell_type": "code",
   "execution_count": 148,
   "metadata": {},
   "outputs": [],
   "source": [
    "#날자별 점수 평균계산\n",
    "score_data = dic.groupby(['date'])[\"score\"].mean()"
   ]
  },
  {
   "cell_type": "code",
   "execution_count": 152,
   "metadata": {},
   "outputs": [
    {
     "data": {
      "text/plain": [
       "[<matplotlib.lines.Line2D at 0x2987e3e7fa0>]"
      ]
     },
     "execution_count": 152,
     "metadata": {},
     "output_type": "execute_result"
    },
    {
     "data": {
      "image/png": "[encoded data removed]",
      "text/plain": [
       "<Figure size 432x288 with 1 Axes>"
      ]
     },
     "metadata": {
      "needs_background": "light"
     },
     "output_type": "display_data"
    }
   ],
   "source": [
    "#날자별 점수 그래프\n",
    "plt.plot(score_data)"
   ]
  },
  {
   "cell_type": "code",
   "execution_count": 196,
   "metadata": {},
   "outputs": [],
   "source": [
    "#종가와 비교해보기\n",
    "increase_plot = increase_r[[\"년/월/일\",\"종가\"]].replace(',', '', regex=True)"
   ]
  },
  {
   "cell_type": "code",
   "execution_count": 198,
   "metadata": {},
   "outputs": [],
   "source": [
    "cost = increase_plot.loc[167:186]"
   ]
  },
  {
   "cell_type": "code",
   "execution_count": 199,
   "metadata": {},
   "outputs": [],
   "source": [
    "cost = cost.append({\"년/월/일\" : \"2020/01/01\", \"종가\" : 27850}, ignore_index = True)"
   ]
  },
  {
   "cell_type": "code",
   "execution_count": 201,
   "metadata": {},
   "outputs": [],
   "source": [
    "cost[\"종가\"] = cost.종가.astype(int)"
   ]
  },
  {
   "cell_type": "code",
   "execution_count": 204,
   "metadata": {},
   "outputs": [],
   "source": [
    "cost = cost.rename(columns ={ \"년/월/일\" : \"date\"})"
   ]
  },
  {
   "cell_type": "code",
   "execution_count": 208,
   "metadata": {},
   "outputs": [],
   "source": [
    "a = pd.merge(cost, score_data,on = \"date\")"
   ]
  },
  {
   "cell_type": "code",
   "execution_count": 212,
   "metadata": {},
   "outputs": [],
   "source": [
    "a[\"date\"] = a.date.astype(str)"
   ]
  },
  {
   "cell_type": "code",
   "execution_count": 227,
   "metadata": {},
   "outputs": [],
   "source": [
    "a = a[::-1]"
   ]
  },
  {
   "cell_type": "code",
   "execution_count": 228,
   "metadata": {},
   "outputs": [],
   "source": [
    "a = a.reset_index()"
   ]
  },
  {
   "cell_type": "code",
   "execution_count": 230,
   "metadata": {},
   "outputs": [],
   "source": [
    "del a[\"index\"]"
   ]
  },
  {
   "cell_type": "code",
   "execution_count": 232,
   "metadata": {},
   "outputs": [
    {
     "data": {
      "text/plain": [
       "[<matplotlib.lines.Line2D at 0x2987e9e2130>]"
      ]
     },
     "execution_count": 232,
     "metadata": {},
     "output_type": "execute_result"
    },
    {
     "data": {
      "image/png": "[encoded data removed]",
      "text/plain": [
       "<Figure size 432x288 with 1 Axes>"
      ]
     },
     "metadata": {
      "needs_background": "light"
     },
     "output_type": "display_data"
    }
   ],
   "source": [
    "plt.plot(a.종가)"
   ]
  },
  {
   "cell_type": "code",
   "execution_count": 233,
   "metadata": {},
   "outputs": [
    {
     "data": {
      "text/plain": [
       "[<matplotlib.lines.Line2D at 0x2987ea2ed30>]"
      ]
     },
     "execution_count": 233,
     "metadata": {},
     "output_type": "execute_result"
    },
    {
     "data": {
      "image/png": "[encoded data removed]",
      "text/plain": [
       "<Figure size 432x288 with 1 Axes>"
      ]
     },
     "metadata": {
      "needs_background": "light"
     },
     "output_type": "display_data"
    }
   ],
   "source": [
    "plt.plot(a.score)"
   ]
  },
  {
   "cell_type": "code",
   "execution_count": null,
   "metadata": {},
   "outputs": [],
   "source": []
  }
 ],
 "metadata": {
  "kernelspec": {
   "display_name": "Python 3",
   "language": "python",
   "name": "python3"
  },
  "language_info": {
   "codemirror_mode": {
    "name": "ipython",
    "version": 3
   },
   "file_extension": ".py",
   "mimetype": "text/x-python",
   "name": "python",
   "nbconvert_exporter": "python",
   "pygments_lexer": "ipython3",
   "version": "3.8.5"
  }
 },
 "nbformat": 4,
 "nbformat_minor": 4
}
