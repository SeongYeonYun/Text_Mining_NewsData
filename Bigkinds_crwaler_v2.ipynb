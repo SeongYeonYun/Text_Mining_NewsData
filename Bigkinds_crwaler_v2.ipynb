import requests
from selenium import webdriver
from urllib.request import urlopen
from  selenium.common.exceptions import NoSuchElementException
from  selenium.common.exceptions import StaleElementReferenceException
from  selenium.common.exceptions import TimeoutException
import time
from selenium.webdriver.common.action_chains import ActionChains


#크롬 드라이버
driver = webdriver.Chrome('D:/r_temp/chrome/chromedriver')
driver.implicitly_wait(3)

driver.get('https://www.bigkinds.or.kr/')

#검색 상자
search_box = driver.find_element_by_css_selector("input#total-search-key")
search_box.send_keys("((대한항공) OR (Korean Air Lines Co.) OR (Ltd.) OR (KAL) OR ((주)대한항공))")

#검색 버튼
search_button = driver.find_element_by_css_selector("span.input-group-btn")
search_button.click()
time.sleep(1)

#경제 버튼
detail_button= driver.find_element_by_css_selector("input#filter-category-002000000")
detail_button.click()
time.sleep(1)

editor = [] #기자
title = [] #제목
times = [] #신문사
text = [] #본문
date = [] #날짜

while True:
    for j in range(2,9):
        for i in range(1,11):
            try:
                times_data = driver.find_element_by_css_selector("#news-results > div:nth-child({}) > div.news-item__body > div.news-item__meta > a".format(i))
                driver.implicitly_wait(15)
                times.append(times_data.text)
                driver.implicitly_wait(15)
                time.sleep(1)
            except NoSuchElementException:
                times.append("UNK")
                driver.implicitly_wait(15)
            finally:
                head_button = driver.find_element_by_css_selector("#news-results > div:nth-child({}) > div.news-item__body > h4".format(i))
                driver.implicitly_wait(15)
                head_button.click()
                driver.implicitly_wait(15)
                time.sleep(1)
                driver.implicitly_wait(15)
                text_data = driver.find_element_by_css_selector("#news-detail-modal > div > div > div.modal-body > div")
                driver.implicitly_wait(15)
                text.append(text_data.text)
                driver.implicitly_wait(30)
                time.sleep(1)
                driver.implicitly_wait(15)
                close_button = driver.find_element_by_css_selector("#news-detail-modal > div > div > div.modal-footer > button")
                driver.execute_script("arguments[0].click();", close_button)
                driver.implicitly_wait(15)
                time.sleep(1)
                driver.implicitly_wait(15)
                date_data = driver.find_element_by_css_selector("#news-results > div:nth-child({}) > div.news-item__body > div.news-item__meta > span.news-item__date".format(i))
                driver.implicitly_wait(15)
                date.append(date_data.text)
                driver.implicitly_wait(15)
                title_data = driver.find_element_by_css_selector("#news-results > div:nth-child({}) > div.news-item__body > h4".format(i))
                driver.implicitly_wait(15)
                title.append(title_data.text)
                driver.implicitly_wait(15)
                editor_data = driver.find_element_by_css_selector("#news-results > div:nth-child({}) > div.news-item__body > div.news-item__meta > span.news-item__byline".format(i))
                driver.implicitly_wait(15)
                editor.append(editor_data.text)
                driver.implicitly_wait(15)
        page_bar = driver.find_elements_by_css_selector("#news-results-pagination > ul > li:nth-child({}) > a".format(j+2))
        driver.implicitly_wait(15)
        for number in page_bar:
            number.click()
            driver.implicitly_wait(15)
            time.sleep(5)

import pandas as pd

df1 = pd.DataFrame(title)
df2 = pd.DataFrame(text)
df3 = pd.DataFrame(editor)
df4 = pd.DataFrame(times)
df5 = pd.DataFrame(date)

a = pd.concat([df1,df2],axis=1)
b = pd.concat([a,df3],axis=1)
c = pd.concat([b,df4],axis=1)
final = pd.concat([c,df5],axis=1)

final

final.to_excel(r'korean_air_2020_02.xlsx')