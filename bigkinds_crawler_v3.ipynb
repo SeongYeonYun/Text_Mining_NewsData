import requests
import time
from selenium import webdriver
from urllib.request import urlopen
from  selenium.common.exceptions import NoSuchElementException
from  selenium.common.exceptions import TimeoutException
from selenium.webdriver.common.by import By
from selenium.webdriver.support.ui import WebDriverWait
from selenium.webdriver.support import expected_conditions as EC

from random import randint

URL = 'https://www.bigkinds.or.kr/'

options = webdriver.ChromeOptions()
options.add_argument('window-size=1920x1080')
options.add_argument("disable-gpu")
options.add_argument("user-agent=Mozilla/5.0 (Macintosh; Intel Mac OS X 10_12_6) AppleWebKit/537.36 (KHTML, like Gecko) Chrome/61.0.3163.100 Safari/537.36")
options.add_argument("lang=ko_KR") # 한국어!
driver = webdriver.Chrome('D:/r_temp/chrome/chromedriver', chrome_options=options)

driver.get(URL)

random_sec = randint(1,5)

#검색 상자
search_box = driver.find_element_by_css_selector("input#total-search-key")
search_box.send_keys("((대한항공) OR (Korean Air Lines Co.) OR (Ltd.) OR (KAL) OR ((주)대한항공))")

#검색 버튼
search_button = driver.find_element_by_css_selector("span.input-group-btn")
search_button.click()
time.sleep(1)

#경제 버튼
detail_button= driver.find_element_by_css_selector("input#filter-category-002000000")
detail_button.click()
time.sleep(1)

editor = [] #기자
title = [] #제목
times = [] #신문사
text = [] #본문
date = [] #날짜


while True:
    for j in range(2,9):
        for i in range(1,11):
                    try:
                        times_data = WebDriverWait(driver, 10).until(EC.presence_of_element_located((By.CSS_SELECTOR, "#news-results > div:nth-child({}) > div.news-item__body > div.news-item__meta > a".format(i))))
                        driver.implicitly_wait(30)
                        times.append(times_data.text)
                        driver.implicitly_wait(30)
                        time.sleep(1)
                    except NoSuchElementException:
                        times.append("UNK")
                        driver.implicitly_wait(30)
                    except TimeoutException:
                        times.append("UNK")
                        driver.implicitly_wait(30)
                    finally:
                        head_button = driver.find_element_by_css_selector("#news-results > div:nth-child({}) > div.news-item__body > h4".format(i))
                        driver.execute_script("arguments[0].click();", head_button)
                        time.sleep(2)
                        driver.implicitly_wait(30)
                        text_data = WebDriverWait(driver, 30).until(EC.presence_of_element_located((By.CSS_SELECTOR, "#news-detail-modal > div > div > div.modal-body > div")))
                        driver.implicitly_wait(30)
                        text.append(text_data.text)
                        driver.implicitly_wait(30)
                        time.sleep(2)
                        driver.implicitly_wait(30)
                        close_button = driver.find_element_by_css_selector("#news-detail-modal > div > div > div.modal-footer > button")
                        driver.execute_script("arguments[0].click();", close_button)
                        driver.implicitly_wait(30)
                        time.sleep(random_sec)
                        driver.implicitly_wait(30)
                        time.sleep(random_sec)
                        date_data = WebDriverWait(driver, 10).until(EC.presence_of_element_located((By.CSS_SELECTOR, "#news-results > div:nth-child({}) > div.news-item__body > div.news-item__meta > span.news-item__date".format(i))))
                        driver.implicitly_wait(30)
                        date.append(date_data.text)
                        driver.implicitly_wait(30)
                        title_data = WebDriverWait(driver, 10).until(EC.presence_of_element_located((By.CSS_SELECTOR, "#news-results > div:nth-child({}) > div.news-item__body > h4".format(i))))
                        driver.implicitly_wait(30)
                        title.append(title_data.text)
                        driver.implicitly_wait(30)
                        editor_data = WebDriverWait(driver, 10).until(EC.presence_of_element_located((By.CSS_SELECTOR, "#news-results > div:nth-child({}) > div.news-item__body > div.news-item__meta > span.news-item__byline".format(i))))
                        driver.implicitly_wait(30)
                        editor.append(editor_data.text)                                            
                        driver.implicitly_wait(30)
                        time.sleep(random_sec)
        page_bar = driver.find_elements_by_css_selector("#news-results-pagination > ul > li:nth-child({}) > a".format(j+2))
        driver.implicitly_wait(15)
        for number in page_bar:
            number.click()
            driver.implicitly_wait(15)
            time.sleep(5)
            driver.implicitly_wait(15)
            time.sleep(random_sec)

